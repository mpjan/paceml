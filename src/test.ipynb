{
 "cells": [
  {
   "cell_type": "code",
   "execution_count": 1,
   "metadata": {},
   "outputs": [
    {
     "name": "stdout",
     "output_type": "stream",
     "text": [
      "('TITLE', '@title{Hill Repeats}')\n",
      "('DATE', '@date{2024-08-15}')\n",
      "('ATHLETE', '@athlete{John Doe}')\n",
      "('NOTE', \"Today's workout focuses on hill repeats. Hill repeats are a great way to build strength.\")\n",
      "('ZONE', '@define_zone[AR]{6:00/km}{5:30/km}{Active Recovery}')\n",
      "('ZONE', '@define_zone[RZ]{5:30/km}{5:50/km}{Regenerative Zone}')\n",
      "('ZONE', '@define_zone[MZ]{4:50/km}{5:10/km}{Maintenance Zone}')\n",
      "('ZONE', '@define_zone[TZ]{3:40/km}{4:10/km}{Total Effort Zone}')\n",
      "('INTERVAL', '@interval[Warm-up]{1km}{RZ}')\n",
      "('REPS', '@reps[Hill Repeats]{6}')\n",
      "('INTERVAL', '  @interval[Hill Climb]{2min}{TZ}{incline=15%, note=Focus on form}')\n",
      "('INTERVAL', '  @interval[Recovery]{90s}{AR}')\n",
      "('INTERVAL', '@interval[Cool-down]{1km}{RZ}')\n",
      "('CALCULATION', '@total_distance')\n",
      "('CALCULATION', '@total_time')\n"
     ]
    }
   ],
   "source": [
    "from paceml_tokenizer import Tokenizer\n",
    "\n",
    "# Read the example\n",
    "with open('../examples/hill_repeats.paceml', 'r') as file:\n",
    "  text = file.read()\n",
    "\n",
    "# Tokenize the content\n",
    "tokenizer = Tokenizer(text)\n",
    "tokens = tokenizer.get_tokens()\n",
    "\n",
    "for token in tokens:\n",
    "  print(token)"
   ]
  },
  {
   "cell_type": "code",
   "execution_count": 2,
   "metadata": {},
   "outputs": [
    {
     "name": "stdout",
     "output_type": "stream",
     "text": [
      "Title: Hill Repeats\n",
      "Date: 2024-08-15\n",
      "Athlete: John Doe\n",
      "\n",
      "Zones:\n",
      "  AR:\n",
      "    Start: 6:00/km\n",
      "    End: 5:30/km\n",
      "    Description: Active Recovery\n",
      "  RZ:\n",
      "    Start: 5:30/km\n",
      "    End: 5:50/km\n",
      "    Description: Regenerative Zone\n",
      "  MZ:\n",
      "    Start: 4:50/km\n",
      "    End: 5:10/km\n",
      "    Description: Maintenance Zone\n",
      "  TZ:\n",
      "    Start: 3:40/km\n",
      "    End: 4:10/km\n",
      "    Description: Total Effort Zone\n",
      "\n",
      "Workout Structure:\n",
      "  Interval: Warm-up\n",
      "    Amount: 1km\n",
      "    Zone: RZ\n",
      "    Additional Params: {}\n",
      "  Repetition: Hill Repeats\n",
      "    Count: 6\n",
      "    Intervals:\n",
      "      - Hill Climb: 2min in TZ\n",
      "      - Recovery: 90s in AR\n",
      "  Interval: Cool-down\n",
      "    Amount: 1km\n",
      "    Zone: RZ\n",
      "    Additional Params: {}\n",
      "\n",
      "Calculations:\n",
      "  total_distance\n",
      "  total_time\n",
      "\n",
      "Notes:\n",
      "  Today's workout focuses on hill repeats. Hill repeats are a great way to build strength.\n"
     ]
    }
   ],
   "source": [
    "from paceml_parser import Parser, print_workout\n",
    "\n",
    "# Parse the content\n",
    "parser = Parser(text)\n",
    "workout = parser.parse()\n",
    "\n",
    "# Print parsed results\n",
    "print_workout(workout)"
   ]
  },
  {
   "cell_type": "code",
   "execution_count": null,
   "metadata": {},
   "outputs": [],
   "source": []
  }
 ],
 "metadata": {
  "kernelspec": {
   "display_name": "paceml",
   "language": "python",
   "name": "python3"
  },
  "language_info": {
   "codemirror_mode": {
    "name": "ipython",
    "version": 3
   },
   "file_extension": ".py",
   "mimetype": "text/x-python",
   "name": "python",
   "nbconvert_exporter": "python",
   "pygments_lexer": "ipython3",
   "version": "3.9.13"
  }
 },
 "nbformat": 4,
 "nbformat_minor": 2
}
