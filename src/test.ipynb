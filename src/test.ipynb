{
 "cells": [
  {
   "cell_type": "code",
   "execution_count": 1,
   "metadata": {},
   "outputs": [
    {
     "name": "stdout",
     "output_type": "stream",
     "text": [
      "('TITLE', '@title{Hill Repeats}')\n",
      "('DATE', '@date{2024-08-15}')\n",
      "('ATHLETE', '@athlete{John Doe}')\n",
      "('NOTE', \"Today's workout focuses on hill repeats. Hill repeats are a great way to build strength.\")\n",
      "('ZONE', '@define_zone[AR]{6:00/km}{5:30/km}{Active Recovery}')\n",
      "('ZONE', '@define_zone[RZ]{5:30/km}{5:50/km}{Regenerative Zone}')\n",
      "('ZONE', '@define_zone[MZ]{4:50/km}{5:10/km}{Maintenance Zone}')\n",
      "('ZONE', '@define_zone[TZ]{3:40/km}{4:10/km}{Total Effort Zone}')\n",
      "('INTERVAL', '@interval[Warm-up]{1km}{RZ}')\n",
      "('REPS', '@reps[Hill Repeats]{6}')\n",
      "('INTERVAL', '  @interval[Hill Climb]{2min}{TZ}{incline=15%, note=Focus on form}')\n",
      "('INTERVAL', '  @interval[Recovery]{90s}{AR}')\n",
      "('INTERVAL', '@interval[Cool-down]{1km}{RZ}')\n",
      "('CALCULATION', '@total_distance')\n",
      "('CALCULATION', '@total_time')\n"
     ]
    }
   ],
   "source": [
    "from paceml_tokenizer import Tokenizer\n",
    "\n",
    "# Read the example\n",
    "with open('../examples/hill_repeats.paceml', 'r') as file:\n",
    "  text = file.read()\n",
    "\n",
    "# Tokenize the content\n",
    "tokenizer = Tokenizer(text)\n",
    "tokens = tokenizer.get_tokens()\n",
    "\n",
    "for token in tokens:\n",
    "  print(token)"
   ]
  },
  {
   "cell_type": "code",
   "execution_count": 2,
   "metadata": {},
   "outputs": [
    {
     "name": "stdout",
     "output_type": "stream",
     "text": [
      "TOKENS\n",
      "=====\n",
      "- Token: ('TITLE', '@title{Hill Repeats}')\n",
      "- Token: ('DATE', '@date{2024-08-15}')\n",
      "- Token: ('ATHLETE', '@athlete{John Doe}')\n",
      "- Token: ('NOTE', \"Today's workout focuses on hill repeats. Hill repeats are a great way to build strength.\")\n",
      "- Token: ('ZONE', '@define_zone[AR]{6:00/km}{5:30/km}{Active Recovery}')\n",
      "- Token: ('ZONE', '@define_zone[RZ]{5:30/km}{5:50/km}{Regenerative Zone}')\n",
      "- Token: ('ZONE', '@define_zone[MZ]{4:50/km}{5:10/km}{Maintenance Zone}')\n",
      "- Token: ('ZONE', '@define_zone[TZ]{3:40/km}{4:10/km}{Total Effort Zone}')\n",
      "- Token: ('INTERVAL', '@interval[Warm-up]{1km}{RZ}')\n",
      "- Token: ('REPS', '@reps[Hill Repeats]{6}')\n",
      "- Token: ('INTERVAL', '  @interval[Hill Climb]{2min}{TZ}{incline=15%, note=Focus on form}')\n",
      "- Token: ('INTERVAL', '  @interval[Recovery]{90s}{AR}')\n",
      "- Token: ('INTERVAL', '@interval[Cool-down]{1km}{RZ}')\n",
      "- Token: ('CALCULATION', '@total_distance')\n",
      "- Token: ('CALCULATION', '@total_time')\n",
      "\n",
      "\n",
      "PARSING\n",
      "======\n",
      "Current token index: 0\n",
      "Parsing token_type: TITLE with token_value: @title{Hill Repeats}\n",
      "Current token index: 1\n",
      "Parsing token_type: DATE with token_value: @date{2024-08-15}\n",
      "Current token index: 2\n",
      "Parsing token_type: ATHLETE with token_value: @athlete{John Doe}\n",
      "Current token index: 3\n",
      "Parsing token_type: NOTE with token_value: Today's workout focuses on hill repeats. Hill repeats are a great way to build strength.\n",
      "Current token index: 4\n",
      "Parsing token_type: ZONE with token_value: @define_zone[AR]{6:00/km}{5:30/km}{Active Recovery}\n",
      "Current token index: 5\n",
      "Parsing token_type: ZONE with token_value: @define_zone[RZ]{5:30/km}{5:50/km}{Regenerative Zone}\n",
      "Current token index: 6\n",
      "Parsing token_type: ZONE with token_value: @define_zone[MZ]{4:50/km}{5:10/km}{Maintenance Zone}\n",
      "Current token index: 7\n",
      "Parsing token_type: ZONE with token_value: @define_zone[TZ]{3:40/km}{4:10/km}{Total Effort Zone}\n",
      "Current token index: 8\n",
      "Parsing token_type: INTERVAL with token_value: @interval[Warm-up]{1km}{RZ}\n",
      "Current token index: 9\n",
      "Parsing token_type: REPS with token_value: @reps[Hill Repeats]{6}\n",
      "Current token index: 10\n",
      "Parsing token_type: INTERVAL with token_value:   @interval[Hill Climb]{2min}{TZ}{incline=15%, note=Focus on form}\n",
      "Current token index: 11\n",
      "Parsing token_type: INTERVAL with token_value:   @interval[Recovery]{90s}{AR}\n",
      "Current token index: 12\n",
      "Parsing token_type: INTERVAL with token_value: @interval[Cool-down]{1km}{RZ}\n",
      "Current token index: 13\n",
      "Parsing token_type: CALCULATION with token_value: @total_distance\n"
     ]
    },
    {
     "ename": "AttributeError",
     "evalue": "'NoneType' object has no attribute 'group'",
     "output_type": "error",
     "traceback": [
      "\u001b[1;31m---------------------------------------------------------------------------\u001b[0m",
      "\u001b[1;31mAttributeError\u001b[0m                            Traceback (most recent call last)",
      "\u001b[1;32m~\\AppData\\Local\\Temp\\ipykernel_23440\\3039093240.py\u001b[0m in \u001b[0;36m<module>\u001b[1;34m\u001b[0m\n\u001b[0;32m      3\u001b[0m \u001b[1;31m# Parse the content\u001b[0m\u001b[1;33m\u001b[0m\u001b[1;33m\u001b[0m\u001b[0m\n\u001b[0;32m      4\u001b[0m \u001b[0mparser\u001b[0m \u001b[1;33m=\u001b[0m \u001b[0mParser\u001b[0m\u001b[1;33m(\u001b[0m\u001b[0mtext\u001b[0m\u001b[1;33m)\u001b[0m\u001b[1;33m\u001b[0m\u001b[1;33m\u001b[0m\u001b[0m\n\u001b[1;32m----> 5\u001b[1;33m \u001b[0mworkout\u001b[0m \u001b[1;33m=\u001b[0m \u001b[0mparser\u001b[0m\u001b[1;33m.\u001b[0m\u001b[0mparse\u001b[0m\u001b[1;33m(\u001b[0m\u001b[1;33m)\u001b[0m\u001b[1;33m\u001b[0m\u001b[1;33m\u001b[0m\u001b[0m\n\u001b[0m\u001b[0;32m      6\u001b[0m \u001b[1;33m\u001b[0m\u001b[0m\n\u001b[0;32m      7\u001b[0m \u001b[1;31m# Print parsed results\u001b[0m\u001b[1;33m\u001b[0m\u001b[1;33m\u001b[0m\u001b[0m\n",
      "\u001b[1;32mc:\\Users\\marcelo.jannuzzi_ifo\\OneDrive\\Desktop\\paceml\\src\\paceml_parser.py\u001b[0m in \u001b[0;36mparse\u001b[1;34m(self)\u001b[0m\n\u001b[0;32m     72\u001b[0m         \u001b[0mself\u001b[0m\u001b[1;33m.\u001b[0m\u001b[0mworkout\u001b[0m\u001b[1;33m.\u001b[0m\u001b[0mrepetitions\u001b[0m\u001b[1;33m.\u001b[0m\u001b[0mappend\u001b[0m\u001b[1;33m(\u001b[0m\u001b[0mself\u001b[0m\u001b[1;33m.\u001b[0m\u001b[0mparse_repetition\u001b[0m\u001b[1;33m(\u001b[0m\u001b[1;33m)\u001b[0m\u001b[1;33m)\u001b[0m\u001b[1;33m\u001b[0m\u001b[1;33m\u001b[0m\u001b[0m\n\u001b[0;32m     73\u001b[0m       \u001b[1;32melif\u001b[0m \u001b[0mtoken_type\u001b[0m \u001b[1;33m==\u001b[0m \u001b[1;34m'CALCULATION'\u001b[0m\u001b[1;33m:\u001b[0m\u001b[1;33m\u001b[0m\u001b[1;33m\u001b[0m\u001b[0m\n\u001b[1;32m---> 74\u001b[1;33m         \u001b[0mprint\u001b[0m\u001b[1;33m(\u001b[0m\u001b[0mCalculation\u001b[0m\u001b[1;33m(\u001b[0m\u001b[0mself\u001b[0m\u001b[1;33m.\u001b[0m\u001b[0mextract_value\u001b[0m\u001b[1;33m(\u001b[0m\u001b[0mtoken_value\u001b[0m\u001b[1;33m)\u001b[0m\u001b[1;33m)\u001b[0m\u001b[1;33m)\u001b[0m\u001b[1;33m\u001b[0m\u001b[1;33m\u001b[0m\u001b[0m\n\u001b[0m\u001b[0;32m     75\u001b[0m         \u001b[0mself\u001b[0m\u001b[1;33m.\u001b[0m\u001b[0mworkout\u001b[0m\u001b[1;33m.\u001b[0m\u001b[0mcalculations\u001b[0m\u001b[1;33m.\u001b[0m\u001b[0mappend\u001b[0m\u001b[1;33m(\u001b[0m\u001b[0mCalculation\u001b[0m\u001b[1;33m(\u001b[0m\u001b[0mself\u001b[0m\u001b[1;33m.\u001b[0m\u001b[0mextract_value\u001b[0m\u001b[1;33m(\u001b[0m\u001b[0mtoken_value\u001b[0m\u001b[1;33m)\u001b[0m\u001b[1;33m)\u001b[0m\u001b[1;33m)\u001b[0m\u001b[1;33m\u001b[0m\u001b[1;33m\u001b[0m\u001b[0m\n\u001b[0;32m     76\u001b[0m       \u001b[1;32melif\u001b[0m \u001b[0mtoken_type\u001b[0m \u001b[1;33m==\u001b[0m \u001b[1;34m'NOTE'\u001b[0m\u001b[1;33m:\u001b[0m\u001b[1;33m\u001b[0m\u001b[1;33m\u001b[0m\u001b[0m\n",
      "\u001b[1;32mc:\\Users\\marcelo.jannuzzi_ifo\\OneDrive\\Desktop\\paceml\\src\\paceml_parser.py\u001b[0m in \u001b[0;36mextract_value\u001b[1;34m(self, token_value)\u001b[0m\n\u001b[0;32m     80\u001b[0m \u001b[1;33m\u001b[0m\u001b[0m\n\u001b[0;32m     81\u001b[0m   \u001b[1;32mdef\u001b[0m \u001b[0mextract_value\u001b[0m\u001b[1;33m(\u001b[0m\u001b[0mself\u001b[0m\u001b[1;33m,\u001b[0m \u001b[0mtoken_value\u001b[0m\u001b[1;33m)\u001b[0m\u001b[1;33m:\u001b[0m\u001b[1;33m\u001b[0m\u001b[1;33m\u001b[0m\u001b[0m\n\u001b[1;32m---> 82\u001b[1;33m     \u001b[1;32mreturn\u001b[0m \u001b[0mre\u001b[0m\u001b[1;33m.\u001b[0m\u001b[0msearch\u001b[0m\u001b[1;33m(\u001b[0m\u001b[1;34mr'\\{(.*?)\\}'\u001b[0m\u001b[1;33m,\u001b[0m \u001b[0mtoken_value\u001b[0m\u001b[1;33m)\u001b[0m\u001b[1;33m.\u001b[0m\u001b[0mgroup\u001b[0m\u001b[1;33m(\u001b[0m\u001b[1;36m1\u001b[0m\u001b[1;33m)\u001b[0m\u001b[1;33m\u001b[0m\u001b[1;33m\u001b[0m\u001b[0m\n\u001b[0m\u001b[0;32m     83\u001b[0m \u001b[1;33m\u001b[0m\u001b[0m\n\u001b[0;32m     84\u001b[0m   \u001b[1;32mdef\u001b[0m \u001b[0mparse_zone\u001b[0m\u001b[1;33m(\u001b[0m\u001b[0mself\u001b[0m\u001b[1;33m,\u001b[0m \u001b[0mtoken_value\u001b[0m\u001b[1;33m)\u001b[0m\u001b[1;33m:\u001b[0m\u001b[1;33m\u001b[0m\u001b[1;33m\u001b[0m\u001b[0m\n",
      "\u001b[1;31mAttributeError\u001b[0m: 'NoneType' object has no attribute 'group'"
     ]
    }
   ],
   "source": [
    "from paceml_parser import Parser\n",
    "\n",
    "# Parse the content\n",
    "parser = Parser(text)\n",
    "workout = parser.parse()\n",
    "\n",
    "# Print parsed results\n",
    "# print('Title:', workout.metadata.title)\n",
    "# print('Date:', workout.metadata.date)\n",
    "# print('Athlete:', workout.metadata.athlete)\n",
    "# print('Zones:', [(zone.name, zone.start, zone.end, zone.description) for zone in workout.zones])\n",
    "# print('Intervals:', [(interval.title, interval.amount, interval.zone, interval.additional_params) for interval in workout.intervals])\n",
    "# print('Repetitions:', [(repetition.title, repetition.count, [(interval.title, interval.amount, interval.zone, interval.additional_params) for interval in repetition.intervals]) for repetition in workout.repetitions])\n",
    "# print('Calculations:', [calc.calc_type for calc in workout.calculations])\n",
    "# print('Notes:', workout.notes)"
   ]
  },
  {
   "cell_type": "code",
   "execution_count": null,
   "metadata": {},
   "outputs": [],
   "source": []
  }
 ],
 "metadata": {
  "kernelspec": {
   "display_name": "paceml",
   "language": "python",
   "name": "python3"
  },
  "language_info": {
   "codemirror_mode": {
    "name": "ipython",
    "version": 3
   },
   "file_extension": ".py",
   "mimetype": "text/x-python",
   "name": "python",
   "nbconvert_exporter": "python",
   "pygments_lexer": "ipython3",
   "version": "3.9.13"
  }
 },
 "nbformat": 4,
 "nbformat_minor": 2
}
